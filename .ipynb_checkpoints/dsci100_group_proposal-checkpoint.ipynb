{
 "cells": [
  {
   "cell_type": "markdown",
   "id": "12fe21ee-80a9-4363-9b85-f1313848baca",
   "metadata": {
    "tags": []
   },
   "source": [
    "# DSCI 100 Group Project - Predicting Housing Prices - Group Project Proposal\n",
    "### Group Members: David Chen, Catherine Jiang, Chanon Mallikamas, Christopher Xu\n",
    "Dataset from: https://www.kaggle.com/datasets/yasserh/housing-prices-dataset\n",
    "\n",
    "\n"
   ]
  },
  {
   "cell_type": "markdown",
   "id": "b539235f-f52d-4f9f-a669-d5321c80e767",
   "metadata": {
    "tags": []
   },
   "source": [
    "Introduction:\n",
    "- Provide some relevant background information on the topic so that someone unfamiliar with it will be prepared to understand the rest of your proposal\n",
    "- Clearly state the question you will try to answer with your project\n",
    "- Identify and describe the dataset that will be used to answer the question"
   ]
  },
  {
   "cell_type": "markdown",
   "id": "9bcd14d3-6c4c-4d32-a011-e2ec63a1d490",
   "metadata": {},
   "source": [
    "Preliminary exploratory data analysis:\n",
    "- Demonstrate that the dataset can be read from the web into R \n",
    "- Clean and wrangle your data into a tidy format\n",
    "- Using only training data, summarize the data in at least one table (this is exploratory data analysis). An example of a useful table could be one that reports the number of observations in each class, the means of the predictor variables you plan to use in your analysis and how many rows have missing data. \n",
    "- Using only training data, visualize the data with at least one plot relevant to the analysis you plan to do (this is exploratory data analysis). An example of a useful visualization could be one that compares the distributions of each of the predictor variables you plan to use in your analysis.\n"
   ]
  },
  {
   "cell_type": "markdown",
   "id": "e85d6f58-a1eb-477c-a097-0bb318397929",
   "metadata": {},
   "source": [
    "Methods:\n",
    "- Explain how you will conduct either your data analysis and which variables/columns you will use. Note - you do not need to use all variables/columns that exist in the raw data set. In fact, that's often not a good idea. For each variable think: is this a useful variable for prediction?\n",
    "- Describe at least one way that you will visualize the results"
   ]
  },
  {
   "cell_type": "markdown",
   "id": "aa91519b-d3e9-435f-8c9e-19e72c85e32b",
   "metadata": {},
   "source": [
    "Expected outcomes and significance:\n",
    "- What do you expect to find?\n",
    "- What impact could such findings have?\n",
    "- What future questions could this lead to?"
   ]
  },
  {
   "cell_type": "code",
   "execution_count": 2,
   "id": "7cf04fe6-32c5-4be3-81b3-db8522be4854",
   "metadata": {
    "tags": []
   },
   "outputs": [
    {
     "data": {
      "text/html": [
       "<table class=\"dataframe\">\n",
       "<caption>A spec_tbl_df: 545 × 13</caption>\n",
       "<thead>\n",
       "\t<tr><th scope=col>price</th><th scope=col>area</th><th scope=col>bedrooms</th><th scope=col>bathrooms</th><th scope=col>stories</th><th scope=col>mainroad</th><th scope=col>guestroom</th><th scope=col>basement</th><th scope=col>hotwaterheating</th><th scope=col>airconditioning</th><th scope=col>parking</th><th scope=col>prefarea</th><th scope=col>furnishingstatus</th></tr>\n",
       "\t<tr><th scope=col>&lt;dbl&gt;</th><th scope=col>&lt;dbl&gt;</th><th scope=col>&lt;dbl&gt;</th><th scope=col>&lt;dbl&gt;</th><th scope=col>&lt;dbl&gt;</th><th scope=col>&lt;chr&gt;</th><th scope=col>&lt;chr&gt;</th><th scope=col>&lt;chr&gt;</th><th scope=col>&lt;chr&gt;</th><th scope=col>&lt;chr&gt;</th><th scope=col>&lt;dbl&gt;</th><th scope=col>&lt;chr&gt;</th><th scope=col>&lt;chr&gt;</th></tr>\n",
       "</thead>\n",
       "<tbody>\n",
       "\t<tr><td>13300000</td><td>7420</td><td>4</td><td>2</td><td>3</td><td>yes</td><td>no</td><td>no </td><td>no</td><td>yes</td><td>2</td><td>yes</td><td>furnished     </td></tr>\n",
       "\t<tr><td>12250000</td><td>8960</td><td>4</td><td>4</td><td>4</td><td>yes</td><td>no</td><td>no </td><td>no</td><td>yes</td><td>3</td><td>no </td><td>furnished     </td></tr>\n",
       "\t<tr><td>12250000</td><td>9960</td><td>3</td><td>2</td><td>2</td><td>yes</td><td>no</td><td>yes</td><td>no</td><td>no </td><td>2</td><td>yes</td><td>semi-furnished</td></tr>\n",
       "\t<tr><td>⋮</td><td>⋮</td><td>⋮</td><td>⋮</td><td>⋮</td><td>⋮</td><td>⋮</td><td>⋮</td><td>⋮</td><td>⋮</td><td>⋮</td><td>⋮</td><td>⋮</td></tr>\n",
       "\t<tr><td>1750000</td><td>3620</td><td>2</td><td>1</td><td>1</td><td>yes</td><td>no</td><td>no</td><td>no</td><td>no</td><td>0</td><td>no</td><td>unfurnished</td></tr>\n",
       "\t<tr><td>1750000</td><td>2910</td><td>3</td><td>1</td><td>1</td><td>no </td><td>no</td><td>no</td><td>no</td><td>no</td><td>0</td><td>no</td><td>furnished  </td></tr>\n",
       "\t<tr><td>1750000</td><td>3850</td><td>3</td><td>1</td><td>2</td><td>yes</td><td>no</td><td>no</td><td>no</td><td>no</td><td>0</td><td>no</td><td>unfurnished</td></tr>\n",
       "</tbody>\n",
       "</table>\n"
      ],
      "text/latex": [
       "A spec\\_tbl\\_df: 545 × 13\n",
       "\\begin{tabular}{lllllllllllll}\n",
       " price & area & bedrooms & bathrooms & stories & mainroad & guestroom & basement & hotwaterheating & airconditioning & parking & prefarea & furnishingstatus\\\\\n",
       " <dbl> & <dbl> & <dbl> & <dbl> & <dbl> & <chr> & <chr> & <chr> & <chr> & <chr> & <dbl> & <chr> & <chr>\\\\\n",
       "\\hline\n",
       "\t 13300000 & 7420 & 4 & 2 & 3 & yes & no & no  & no & yes & 2 & yes & furnished     \\\\\n",
       "\t 12250000 & 8960 & 4 & 4 & 4 & yes & no & no  & no & yes & 3 & no  & furnished     \\\\\n",
       "\t 12250000 & 9960 & 3 & 2 & 2 & yes & no & yes & no & no  & 2 & yes & semi-furnished\\\\\n",
       "\t ⋮ & ⋮ & ⋮ & ⋮ & ⋮ & ⋮ & ⋮ & ⋮ & ⋮ & ⋮ & ⋮ & ⋮ & ⋮\\\\\n",
       "\t 1750000 & 3620 & 2 & 1 & 1 & yes & no & no & no & no & 0 & no & unfurnished\\\\\n",
       "\t 1750000 & 2910 & 3 & 1 & 1 & no  & no & no & no & no & 0 & no & furnished  \\\\\n",
       "\t 1750000 & 3850 & 3 & 1 & 2 & yes & no & no & no & no & 0 & no & unfurnished\\\\\n",
       "\\end{tabular}\n"
      ],
      "text/markdown": [
       "\n",
       "A spec_tbl_df: 545 × 13\n",
       "\n",
       "| price &lt;dbl&gt; | area &lt;dbl&gt; | bedrooms &lt;dbl&gt; | bathrooms &lt;dbl&gt; | stories &lt;dbl&gt; | mainroad &lt;chr&gt; | guestroom &lt;chr&gt; | basement &lt;chr&gt; | hotwaterheating &lt;chr&gt; | airconditioning &lt;chr&gt; | parking &lt;dbl&gt; | prefarea &lt;chr&gt; | furnishingstatus &lt;chr&gt; |\n",
       "|---|---|---|---|---|---|---|---|---|---|---|---|---|\n",
       "| 13300000 | 7420 | 4 | 2 | 3 | yes | no | no  | no | yes | 2 | yes | furnished      |\n",
       "| 12250000 | 8960 | 4 | 4 | 4 | yes | no | no  | no | yes | 3 | no  | furnished      |\n",
       "| 12250000 | 9960 | 3 | 2 | 2 | yes | no | yes | no | no  | 2 | yes | semi-furnished |\n",
       "| ⋮ | ⋮ | ⋮ | ⋮ | ⋮ | ⋮ | ⋮ | ⋮ | ⋮ | ⋮ | ⋮ | ⋮ | ⋮ |\n",
       "| 1750000 | 3620 | 2 | 1 | 1 | yes | no | no | no | no | 0 | no | unfurnished |\n",
       "| 1750000 | 2910 | 3 | 1 | 1 | no  | no | no | no | no | 0 | no | furnished   |\n",
       "| 1750000 | 3850 | 3 | 1 | 2 | yes | no | no | no | no | 0 | no | unfurnished |\n",
       "\n"
      ],
      "text/plain": [
       "    price    area bedrooms bathrooms stories mainroad guestroom basement\n",
       "1   13300000 7420 4        2         3       yes      no        no      \n",
       "2   12250000 8960 4        4         4       yes      no        no      \n",
       "3   12250000 9960 3        2         2       yes      no        yes     \n",
       "⋮   ⋮        ⋮    ⋮        ⋮         ⋮       ⋮        ⋮         ⋮       \n",
       "543 1750000  3620 2        1         1       yes      no        no      \n",
       "544 1750000  2910 3        1         1       no       no        no      \n",
       "545 1750000  3850 3        1         2       yes      no        no      \n",
       "    hotwaterheating airconditioning parking prefarea furnishingstatus\n",
       "1   no              yes             2       yes      furnished       \n",
       "2   no              yes             3       no       furnished       \n",
       "3   no              no              2       yes      semi-furnished  \n",
       "⋮   ⋮               ⋮               ⋮       ⋮        ⋮               \n",
       "543 no              no              0       no       unfurnished     \n",
       "544 no              no              0       no       furnished       \n",
       "545 no              no              0       no       unfurnished     "
      ]
     },
     "metadata": {},
     "output_type": "display_data"
    }
   ],
   "source": [
    "### Run this cell before continuing. (From worksheet_viz)\n",
    "library(tidyverse)\n",
    "library(repr)\n",
    "options(repr.matrix.max.rows = 6)\n",
    "\n",
    "\n",
    "housing_df = read_csv(\"data/housingdata.csv\", show_col_types = FALSE)\n",
    "\n",
    "housing_df"
   ]
  }
 ],
 "metadata": {
  "kernelspec": {
   "display_name": "R",
   "language": "R",
   "name": "ir"
  },
  "language_info": {
   "codemirror_mode": "r",
   "file_extension": ".r",
   "mimetype": "text/x-r-source",
   "name": "R",
   "pygments_lexer": "r",
   "version": "4.2.2"
  }
 },
 "nbformat": 4,
 "nbformat_minor": 5
}
