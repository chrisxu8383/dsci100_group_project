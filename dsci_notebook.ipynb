{
 "cells": [
  {
   "cell_type": "markdown",
   "id": "619b9cbe-6670-40ee-b122-dd527af03aa6",
   "metadata": {},
   "source": [
    "# DSCI 100 Group Project - Predicting Housing Prices\n",
    "\n",
    "Dataset from: https://www.kaggle.com/datasets/apratim87/housingdata"
   ]
  },
  {
   "cell_type": "code",
   "execution_count": 2,
   "id": "78ddb7de-8e88-43f9-a9d0-d6533000c3e2",
   "metadata": {
    "tags": []
   },
   "outputs": [],
   "source": [
    "### Run this cell before continuing. (From worksheet_viz)\n",
    "library(tidyverse)\n",
    "library(repr)\n",
    "options(repr.matrix.max.rows = 6)\n"
   ]
  },
  {
   "cell_type": "code",
   "execution_count": null,
   "id": "738928e2-3ef6-4487-ab0e-cb12f754272a",
   "metadata": {},
   "outputs": [],
   "source": []
  }
 ],
 "metadata": {
  "kernelspec": {
   "display_name": "R",
   "language": "R",
   "name": "ir"
  },
  "language_info": {
   "codemirror_mode": "r",
   "file_extension": ".r",
   "mimetype": "text/x-r-source",
   "name": "R",
   "pygments_lexer": "r",
   "version": "4.2.2"
  }
 },
 "nbformat": 4,
 "nbformat_minor": 5
}
