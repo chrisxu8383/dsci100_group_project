{
 "cells": [
  {
   "cell_type": "markdown",
   "id": "619b9cbe-6670-40ee-b122-dd527af03aa6",
   "metadata": {},
   "source": [
    "# DSCI 100 Group Project - Predicting Housing Prices\n",
    "### Group Members: David Chen, Catherine Jiang, Chanon Mallikamas, Christopher Xu\n",
    "Dataset from: https://www.kaggle.com/datasets/yasserh/housing-prices-dataset"
   ]
  },
  {
   "cell_type": "code",
   "execution_count": 1,
   "id": "78ddb7de-8e88-43f9-a9d0-d6533000c3e2",
   "metadata": {
    "tags": []
   },
   "outputs": [
    {
     "name": "stderr",
     "output_type": "stream",
     "text": [
      "── \u001b[1mAttaching packages\u001b[22m ─────────────────────────────────────── tidyverse 1.3.2 ──\n",
      "\u001b[32m✔\u001b[39m \u001b[34mggplot2\u001b[39m 3.4.2     \u001b[32m✔\u001b[39m \u001b[34mpurrr  \u001b[39m 1.0.1\n",
      "\u001b[32m✔\u001b[39m \u001b[34mtibble \u001b[39m 3.2.1     \u001b[32m✔\u001b[39m \u001b[34mdplyr  \u001b[39m 1.1.1\n",
      "\u001b[32m✔\u001b[39m \u001b[34mtidyr  \u001b[39m 1.3.0     \u001b[32m✔\u001b[39m \u001b[34mstringr\u001b[39m 1.5.0\n",
      "\u001b[32m✔\u001b[39m \u001b[34mreadr  \u001b[39m 2.1.3     \u001b[32m✔\u001b[39m \u001b[34mforcats\u001b[39m 0.5.2\n",
      "── \u001b[1mConflicts\u001b[22m ────────────────────────────────────────── tidyverse_conflicts() ──\n",
      "\u001b[31m✖\u001b[39m \u001b[34mdplyr\u001b[39m::\u001b[32mfilter()\u001b[39m masks \u001b[34mstats\u001b[39m::filter()\n",
      "\u001b[31m✖\u001b[39m \u001b[34mdplyr\u001b[39m::\u001b[32mlag()\u001b[39m    masks \u001b[34mstats\u001b[39m::lag()\n"
     ]
    }
   ],
   "source": [
    "### Run this cell before continuing. (From worksheet_viz)\n",
    "library(tidyverse)\n",
    "library(repr)\n",
    "options(repr.matrix.max.rows = 6)\n"
   ]
  },
  {
   "cell_type": "code",
   "execution_count": 2,
   "id": "738928e2-3ef6-4487-ab0e-cb12f754272a",
   "metadata": {
    "tags": []
   },
   "outputs": [
    {
     "data": {
      "text/html": [
       "<table class=\"dataframe\">\n",
       "<caption>A spec_tbl_df: 545 × 13</caption>\n",
       "<thead>\n",
       "\t<tr><th scope=col>price</th><th scope=col>area</th><th scope=col>bedrooms</th><th scope=col>bathrooms</th><th scope=col>stories</th><th scope=col>mainroad</th><th scope=col>guestroom</th><th scope=col>basement</th><th scope=col>hotwaterheating</th><th scope=col>airconditioning</th><th scope=col>parking</th><th scope=col>prefarea</th><th scope=col>furnishingstatus</th></tr>\n",
       "\t<tr><th scope=col>&lt;dbl&gt;</th><th scope=col>&lt;dbl&gt;</th><th scope=col>&lt;dbl&gt;</th><th scope=col>&lt;dbl&gt;</th><th scope=col>&lt;dbl&gt;</th><th scope=col>&lt;chr&gt;</th><th scope=col>&lt;chr&gt;</th><th scope=col>&lt;chr&gt;</th><th scope=col>&lt;chr&gt;</th><th scope=col>&lt;chr&gt;</th><th scope=col>&lt;dbl&gt;</th><th scope=col>&lt;chr&gt;</th><th scope=col>&lt;chr&gt;</th></tr>\n",
       "</thead>\n",
       "<tbody>\n",
       "\t<tr><td>13300000</td><td>7420</td><td>4</td><td>2</td><td>3</td><td>yes</td><td>no</td><td>no </td><td>no</td><td>yes</td><td>2</td><td>yes</td><td>furnished     </td></tr>\n",
       "\t<tr><td>12250000</td><td>8960</td><td>4</td><td>4</td><td>4</td><td>yes</td><td>no</td><td>no </td><td>no</td><td>yes</td><td>3</td><td>no </td><td>furnished     </td></tr>\n",
       "\t<tr><td>12250000</td><td>9960</td><td>3</td><td>2</td><td>2</td><td>yes</td><td>no</td><td>yes</td><td>no</td><td>no </td><td>2</td><td>yes</td><td>semi-furnished</td></tr>\n",
       "\t<tr><td>⋮</td><td>⋮</td><td>⋮</td><td>⋮</td><td>⋮</td><td>⋮</td><td>⋮</td><td>⋮</td><td>⋮</td><td>⋮</td><td>⋮</td><td>⋮</td><td>⋮</td></tr>\n",
       "\t<tr><td>1750000</td><td>3620</td><td>2</td><td>1</td><td>1</td><td>yes</td><td>no</td><td>no</td><td>no</td><td>no</td><td>0</td><td>no</td><td>unfurnished</td></tr>\n",
       "\t<tr><td>1750000</td><td>2910</td><td>3</td><td>1</td><td>1</td><td>no </td><td>no</td><td>no</td><td>no</td><td>no</td><td>0</td><td>no</td><td>furnished  </td></tr>\n",
       "\t<tr><td>1750000</td><td>3850</td><td>3</td><td>1</td><td>2</td><td>yes</td><td>no</td><td>no</td><td>no</td><td>no</td><td>0</td><td>no</td><td>unfurnished</td></tr>\n",
       "</tbody>\n",
       "</table>\n"
      ],
      "text/latex": [
       "A spec\\_tbl\\_df: 545 × 13\n",
       "\\begin{tabular}{lllllllllllll}\n",
       " price & area & bedrooms & bathrooms & stories & mainroad & guestroom & basement & hotwaterheating & airconditioning & parking & prefarea & furnishingstatus\\\\\n",
       " <dbl> & <dbl> & <dbl> & <dbl> & <dbl> & <chr> & <chr> & <chr> & <chr> & <chr> & <dbl> & <chr> & <chr>\\\\\n",
       "\\hline\n",
       "\t 13300000 & 7420 & 4 & 2 & 3 & yes & no & no  & no & yes & 2 & yes & furnished     \\\\\n",
       "\t 12250000 & 8960 & 4 & 4 & 4 & yes & no & no  & no & yes & 3 & no  & furnished     \\\\\n",
       "\t 12250000 & 9960 & 3 & 2 & 2 & yes & no & yes & no & no  & 2 & yes & semi-furnished\\\\\n",
       "\t ⋮ & ⋮ & ⋮ & ⋮ & ⋮ & ⋮ & ⋮ & ⋮ & ⋮ & ⋮ & ⋮ & ⋮ & ⋮\\\\\n",
       "\t 1750000 & 3620 & 2 & 1 & 1 & yes & no & no & no & no & 0 & no & unfurnished\\\\\n",
       "\t 1750000 & 2910 & 3 & 1 & 1 & no  & no & no & no & no & 0 & no & furnished  \\\\\n",
       "\t 1750000 & 3850 & 3 & 1 & 2 & yes & no & no & no & no & 0 & no & unfurnished\\\\\n",
       "\\end{tabular}\n"
      ],
      "text/markdown": [
       "\n",
       "A spec_tbl_df: 545 × 13\n",
       "\n",
       "| price &lt;dbl&gt; | area &lt;dbl&gt; | bedrooms &lt;dbl&gt; | bathrooms &lt;dbl&gt; | stories &lt;dbl&gt; | mainroad &lt;chr&gt; | guestroom &lt;chr&gt; | basement &lt;chr&gt; | hotwaterheating &lt;chr&gt; | airconditioning &lt;chr&gt; | parking &lt;dbl&gt; | prefarea &lt;chr&gt; | furnishingstatus &lt;chr&gt; |\n",
       "|---|---|---|---|---|---|---|---|---|---|---|---|---|\n",
       "| 13300000 | 7420 | 4 | 2 | 3 | yes | no | no  | no | yes | 2 | yes | furnished      |\n",
       "| 12250000 | 8960 | 4 | 4 | 4 | yes | no | no  | no | yes | 3 | no  | furnished      |\n",
       "| 12250000 | 9960 | 3 | 2 | 2 | yes | no | yes | no | no  | 2 | yes | semi-furnished |\n",
       "| ⋮ | ⋮ | ⋮ | ⋮ | ⋮ | ⋮ | ⋮ | ⋮ | ⋮ | ⋮ | ⋮ | ⋮ | ⋮ |\n",
       "| 1750000 | 3620 | 2 | 1 | 1 | yes | no | no | no | no | 0 | no | unfurnished |\n",
       "| 1750000 | 2910 | 3 | 1 | 1 | no  | no | no | no | no | 0 | no | furnished   |\n",
       "| 1750000 | 3850 | 3 | 1 | 2 | yes | no | no | no | no | 0 | no | unfurnished |\n",
       "\n"
      ],
      "text/plain": [
       "    price    area bedrooms bathrooms stories mainroad guestroom basement\n",
       "1   13300000 7420 4        2         3       yes      no        no      \n",
       "2   12250000 8960 4        4         4       yes      no        no      \n",
       "3   12250000 9960 3        2         2       yes      no        yes     \n",
       "⋮   ⋮        ⋮    ⋮        ⋮         ⋮       ⋮        ⋮         ⋮       \n",
       "543 1750000  3620 2        1         1       yes      no        no      \n",
       "544 1750000  2910 3        1         1       no       no        no      \n",
       "545 1750000  3850 3        1         2       yes      no        no      \n",
       "    hotwaterheating airconditioning parking prefarea furnishingstatus\n",
       "1   no              yes             2       yes      furnished       \n",
       "2   no              yes             3       no       furnished       \n",
       "3   no              no              2       yes      semi-furnished  \n",
       "⋮   ⋮               ⋮               ⋮       ⋮        ⋮               \n",
       "543 no              no              0       no       unfurnished     \n",
       "544 no              no              0       no       furnished       \n",
       "545 no              no              0       no       unfurnished     "
      ]
     },
     "metadata": {},
     "output_type": "display_data"
    }
   ],
   "source": [
    "housing_df = read_csv(\"data/housingdata.csv\", show_col_types = FALSE)\n",
    "\n",
    "housing_df"
   ]
  }
 ],
 "metadata": {
  "kernelspec": {
   "display_name": "R",
   "language": "R",
   "name": "ir"
  },
  "language_info": {
   "codemirror_mode": "r",
   "file_extension": ".r",
   "mimetype": "text/x-r-source",
   "name": "R",
   "pygments_lexer": "r",
   "version": "4.2.2"
  }
 },
 "nbformat": 4,
 "nbformat_minor": 5
}
